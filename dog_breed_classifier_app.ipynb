{
 "cells": [
  {
   "cell_type": "code",
   "execution_count": 1,
   "metadata": {
    "colab": {
     "base_uri": "https://localhost:8080/",
     "height": 1000
    },
    "executionInfo": {
     "elapsed": 6743,
     "status": "ok",
     "timestamp": 1616668074794,
     "user": {
      "displayName": "Daniel Sobien",
      "photoUrl": "https://lh3.googleusercontent.com/a-/AOh14Gi6KcwQ3QHUBw56cAxvgYri13EfQp6rdoPU0RZv=s64",
      "userId": "05479789194651770839"
     },
     "user_tz": 240
    },
    "id": "jHeTmwW43HtE",
    "outputId": "1f2254a3-0dd9-445a-f2d2-700164081d99"
   },
   "outputs": [
    {
     "name": "stderr",
     "output_type": "stream",
     "text": [
      "/home/dan/anaconda3/envs/fastai/lib/python3.8/site-packages/torch/cuda/__init__.py:52: UserWarning: CUDA initialization: Found no NVIDIA driver on your system. Please check that you have an NVIDIA GPU and installed a driver from http://www.nvidia.com/Download/index.aspx (Triggered internally at  /opt/conda/conda-bld/pytorch_1607370172916/work/c10/cuda/CUDAFunctions.cpp:100.)\n",
      "  return torch._C._cuda_getDeviceCount() > 0\n"
     ]
    }
   ],
   "source": [
    "from fastai.vision.all import *\n",
    "from fastai.vision.widgets import *"
   ]
  },
  {
   "cell_type": "code",
   "execution_count": 2,
   "metadata": {
    "cellView": "form",
    "executionInfo": {
     "elapsed": 540,
     "status": "ok",
     "timestamp": 1616667905052,
     "user": {
      "displayName": "Daniel Sobien",
      "photoUrl": "https://lh3.googleusercontent.com/a-/AOh14Gi6KcwQ3QHUBw56cAxvgYri13EfQp6rdoPU0RZv=s64",
      "userId": "05479789194651770839"
     },
     "user_tz": 240
    },
    "id": "bFAN4O0m4ZKX"
   },
   "outputs": [],
   "source": [
    "path = Path()\n",
    "learn_inf = load_learner(path/'dog_breed_resnet34.pkl')\n",
    "btn_upload = widgets.FileUpload()\n",
    "out_pl = widgets.Output()\n",
    "lbl_pred = widgets.Label()\n",
    "btn_run = widgets.Button(description='Classify')\n",
    "\n",
    "def on_click_classify(change):\n",
    "    img = PILImage.create(btn_upload.data[-1])\n",
    "    out_pl.clear_output()\n",
    "    with out_pl: display(img.to_thumb(128, 128))\n",
    "    pred, pred_idx, probs = learn_inf.predict(img)\n",
    "    lbl_pred.value = f'Prediction: {pred}; Probability: {probs[pred_idx]:.04f}'\n",
    "\n",
    "btn_run.on_click(on_click_classify)"
   ]
  },
  {
   "cell_type": "code",
   "execution_count": 3,
   "metadata": {
    "cellView": "form",
    "colab": {
     "base_uri": "https://localhost:8080/",
     "height": 219,
     "referenced_widgets": [
      "00b884489fe7423f86e5c78f79fc0a8f",
      "b81d2a84b4034893b9ac3eea0ff6c9f1",
      "7c3a4069093540cc96b96437401f4d0a",
      "672be2469b1a4defaca01d244c9d4f9d",
      "d60e4daee0784d74b1e60ee987c8c0f5",
      "382b8ff863434d9a96a925d7267630f9",
      "dd49bd9390964ff3a35b3b780548b716",
      "a5a8cc97336840d4a5d8b7381c9cdbfc",
      "f1df8d98b9644f2ca403acbe54393ffa",
      "8d3914873ee840c4864873ee8a924fdd",
      "d728fc3614c54e808d2516948a50ffae",
      "7c65917c7a0f4b3d9e209af081847091",
      "da4f2ee0ff5541bf89d613dcff4adfc6",
      "d4368827ab844f7db55b1069e9f7e085",
      "15f84de0408d4a2fa9264f87ca1cdd99",
      "a7fe9c21776e41a49551f4b307561388"
     ]
    },
    "executionInfo": {
     "elapsed": 197,
     "status": "ok",
     "timestamp": 1616668101886,
     "user": {
      "displayName": "Daniel Sobien",
      "photoUrl": "https://lh3.googleusercontent.com/a-/AOh14Gi6KcwQ3QHUBw56cAxvgYri13EfQp6rdoPU0RZv=s64",
      "userId": "05479789194651770839"
     },
     "user_tz": 240
    },
    "id": "MF0lSxyg6lLx",
    "outputId": "d5af2586-86e1-4f48-9259-485ddef2be22"
   },
   "outputs": [
    {
     "data": {
      "application/vnd.jupyter.widget-view+json": {
       "model_id": "5de340eb29984cab96f91ab694d1f00e",
       "version_major": 2,
       "version_minor": 0
      },
      "text/plain": [
       "VBox(children=(Label(value='Select your dog!'), FileUpload(value={}, description='Upload'), Button(description…"
      ]
     },
     "metadata": {},
     "output_type": "display_data"
    }
   ],
   "source": [
    "VBox([widgets.Label('Select your dog!'),\n",
    "      btn_upload, btn_run, out_pl, lbl_pred])"
   ]
  },
  {
   "cell_type": "code",
   "execution_count": null,
   "metadata": {
    "id": "dRvX9ggJ66_y"
   },
   "outputs": [],
   "source": []
  }
 ],
 "metadata": {
  "colab": {
   "authorship_tag": "ABX9TyNL52E0OwEjP7qxLN+t89ZD",
   "collapsed_sections": [],
   "name": "bear_classifier.ipynb",
   "provenance": []
  },
  "kernelspec": {
   "display_name": "Python [conda env:fastai]",
   "language": "python",
   "name": "conda-env-fastai-py"
  },
  "language_info": {
   "codemirror_mode": {
    "name": "ipython",
    "version": 3
   },
   "file_extension": ".py",
   "mimetype": "text/x-python",
   "name": "python",
   "nbconvert_exporter": "python",
   "pygments_lexer": "ipython3",
   "version": "3.8.8"
  },
  "widgets": {
   "application/vnd.jupyter.widget-state+json": {
    "00b884489fe7423f86e5c78f79fc0a8f": {
     "model_module": "@jupyter-widgets/controls",
     "model_name": "VBoxModel",
     "state": {
      "_dom_classes": [],
      "_model_module": "@jupyter-widgets/controls",
      "_model_module_version": "1.5.0",
      "_model_name": "VBoxModel",
      "_view_count": null,
      "_view_module": "@jupyter-widgets/controls",
      "_view_module_version": "1.5.0",
      "_view_name": "VBoxView",
      "box_style": "",
      "children": [
       "IPY_MODEL_7c3a4069093540cc96b96437401f4d0a",
       "IPY_MODEL_672be2469b1a4defaca01d244c9d4f9d",
       "IPY_MODEL_d60e4daee0784d74b1e60ee987c8c0f5",
       "IPY_MODEL_382b8ff863434d9a96a925d7267630f9",
       "IPY_MODEL_dd49bd9390964ff3a35b3b780548b716"
      ],
      "layout": "IPY_MODEL_b81d2a84b4034893b9ac3eea0ff6c9f1"
     }
    },
    "15f84de0408d4a2fa9264f87ca1cdd99": {
     "model_module": "@jupyter-widgets/base",
     "model_name": "LayoutModel",
     "state": {
      "_model_module": "@jupyter-widgets/base",
      "_model_module_version": "1.2.0",
      "_model_name": "LayoutModel",
      "_view_count": null,
      "_view_module": "@jupyter-widgets/base",
      "_view_module_version": "1.2.0",
      "_view_name": "LayoutView",
      "align_content": null,
      "align_items": null,
      "align_self": null,
      "border": null,
      "bottom": null,
      "display": null,
      "flex": null,
      "flex_flow": null,
      "grid_area": null,
      "grid_auto_columns": null,
      "grid_auto_flow": null,
      "grid_auto_rows": null,
      "grid_column": null,
      "grid_gap": null,
      "grid_row": null,
      "grid_template_areas": null,
      "grid_template_columns": null,
      "grid_template_rows": null,
      "height": null,
      "justify_content": null,
      "justify_items": null,
      "left": null,
      "margin": null,
      "max_height": null,
      "max_width": null,
      "min_height": null,
      "min_width": null,
      "object_fit": null,
      "object_position": null,
      "order": null,
      "overflow": null,
      "overflow_x": null,
      "overflow_y": null,
      "padding": null,
      "right": null,
      "top": null,
      "visibility": null,
      "width": null
     }
    },
    "382b8ff863434d9a96a925d7267630f9": {
     "model_module": "@jupyter-widgets/output",
     "model_name": "OutputModel",
     "state": {
      "_dom_classes": [],
      "_model_module": "@jupyter-widgets/output",
      "_model_module_version": "1.0.0",
      "_model_name": "OutputModel",
      "_view_count": null,
      "_view_module": "@jupyter-widgets/output",
      "_view_module_version": "1.0.0",
      "_view_name": "OutputView",
      "layout": "IPY_MODEL_a7fe9c21776e41a49551f4b307561388",
      "msg_id": "",
      "outputs": [
       {
        "image/png": "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\n",
        "metadata": {
         "tags": []
        },
        "output_type": "display_data",
        "text/plain": "<PIL.Image.Image image mode=RGB size=128x74 at 0x7FB71D5E82D0>"
       }
      ]
     }
    },
    "672be2469b1a4defaca01d244c9d4f9d": {
     "model_module": "@jupyter-widgets/controls",
     "model_name": "FileUploadModel",
     "state": {
      "_counter": 1,
      "_dom_classes": [],
      "_model_module": "@jupyter-widgets/controls",
      "_model_module_version": "1.5.0",
      "_model_name": "FileUploadModel",
      "_view_count": null,
      "_view_module": "@jupyter-widgets/controls",
      "_view_module_version": "1.5.0",
      "_view_name": "FileUploadView",
      "accept": "",
      "button_style": "",
      "data": [
       null
      ],
      "description": "Upload",
      "description_tooltip": null,
      "disabled": false,
      "error": "",
      "icon": "upload",
      "layout": "IPY_MODEL_d728fc3614c54e808d2516948a50ffae",
      "metadata": [
       {
        "lastModified": 1616666582805,
        "name": "grizzly_bear.jpeg",
        "size": 354186,
        "type": "image/jpeg"
       }
      ],
      "multiple": false,
      "style": "IPY_MODEL_8d3914873ee840c4864873ee8a924fdd"
     }
    },
    "7c3a4069093540cc96b96437401f4d0a": {
     "model_module": "@jupyter-widgets/controls",
     "model_name": "LabelModel",
     "state": {
      "_dom_classes": [],
      "_model_module": "@jupyter-widgets/controls",
      "_model_module_version": "1.5.0",
      "_model_name": "LabelModel",
      "_view_count": null,
      "_view_module": "@jupyter-widgets/controls",
      "_view_module_version": "1.5.0",
      "_view_name": "LabelView",
      "description": "",
      "description_tooltip": null,
      "layout": "IPY_MODEL_f1df8d98b9644f2ca403acbe54393ffa",
      "placeholder": "​",
      "style": "IPY_MODEL_a5a8cc97336840d4a5d8b7381c9cdbfc",
      "value": "Select your bear!"
     }
    },
    "7c65917c7a0f4b3d9e209af081847091": {
     "model_module": "@jupyter-widgets/controls",
     "model_name": "ButtonStyleModel",
     "state": {
      "_model_module": "@jupyter-widgets/controls",
      "_model_module_version": "1.5.0",
      "_model_name": "ButtonStyleModel",
      "_view_count": null,
      "_view_module": "@jupyter-widgets/base",
      "_view_module_version": "1.2.0",
      "_view_name": "StyleView",
      "button_color": null,
      "font_weight": ""
     }
    },
    "8d3914873ee840c4864873ee8a924fdd": {
     "model_module": "@jupyter-widgets/controls",
     "model_name": "ButtonStyleModel",
     "state": {
      "_model_module": "@jupyter-widgets/controls",
      "_model_module_version": "1.5.0",
      "_model_name": "ButtonStyleModel",
      "_view_count": null,
      "_view_module": "@jupyter-widgets/base",
      "_view_module_version": "1.2.0",
      "_view_name": "StyleView",
      "button_color": null,
      "font_weight": ""
     }
    },
    "a5a8cc97336840d4a5d8b7381c9cdbfc": {
     "model_module": "@jupyter-widgets/controls",
     "model_name": "DescriptionStyleModel",
     "state": {
      "_model_module": "@jupyter-widgets/controls",
      "_model_module_version": "1.5.0",
      "_model_name": "DescriptionStyleModel",
      "_view_count": null,
      "_view_module": "@jupyter-widgets/base",
      "_view_module_version": "1.2.0",
      "_view_name": "StyleView",
      "description_width": ""
     }
    },
    "a7fe9c21776e41a49551f4b307561388": {
     "model_module": "@jupyter-widgets/base",
     "model_name": "LayoutModel",
     "state": {
      "_model_module": "@jupyter-widgets/base",
      "_model_module_version": "1.2.0",
      "_model_name": "LayoutModel",
      "_view_count": null,
      "_view_module": "@jupyter-widgets/base",
      "_view_module_version": "1.2.0",
      "_view_name": "LayoutView",
      "align_content": null,
      "align_items": null,
      "align_self": null,
      "border": null,
      "bottom": null,
      "display": null,
      "flex": null,
      "flex_flow": null,
      "grid_area": null,
      "grid_auto_columns": null,
      "grid_auto_flow": null,
      "grid_auto_rows": null,
      "grid_column": null,
      "grid_gap": null,
      "grid_row": null,
      "grid_template_areas": null,
      "grid_template_columns": null,
      "grid_template_rows": null,
      "height": null,
      "justify_content": null,
      "justify_items": null,
      "left": null,
      "margin": null,
      "max_height": null,
      "max_width": null,
      "min_height": null,
      "min_width": null,
      "object_fit": null,
      "object_position": null,
      "order": null,
      "overflow": null,
      "overflow_x": null,
      "overflow_y": null,
      "padding": null,
      "right": null,
      "top": null,
      "visibility": null,
      "width": null
     }
    },
    "b81d2a84b4034893b9ac3eea0ff6c9f1": {
     "model_module": "@jupyter-widgets/base",
     "model_name": "LayoutModel",
     "state": {
      "_model_module": "@jupyter-widgets/base",
      "_model_module_version": "1.2.0",
      "_model_name": "LayoutModel",
      "_view_count": null,
      "_view_module": "@jupyter-widgets/base",
      "_view_module_version": "1.2.0",
      "_view_name": "LayoutView",
      "align_content": null,
      "align_items": null,
      "align_self": null,
      "border": null,
      "bottom": null,
      "display": null,
      "flex": null,
      "flex_flow": null,
      "grid_area": null,
      "grid_auto_columns": null,
      "grid_auto_flow": null,
      "grid_auto_rows": null,
      "grid_column": null,
      "grid_gap": null,
      "grid_row": null,
      "grid_template_areas": null,
      "grid_template_columns": null,
      "grid_template_rows": null,
      "height": null,
      "justify_content": null,
      "justify_items": null,
      "left": null,
      "margin": null,
      "max_height": null,
      "max_width": null,
      "min_height": null,
      "min_width": null,
      "object_fit": null,
      "object_position": null,
      "order": null,
      "overflow": null,
      "overflow_x": null,
      "overflow_y": null,
      "padding": null,
      "right": null,
      "top": null,
      "visibility": null,
      "width": null
     }
    },
    "d4368827ab844f7db55b1069e9f7e085": {
     "model_module": "@jupyter-widgets/controls",
     "model_name": "DescriptionStyleModel",
     "state": {
      "_model_module": "@jupyter-widgets/controls",
      "_model_module_version": "1.5.0",
      "_model_name": "DescriptionStyleModel",
      "_view_count": null,
      "_view_module": "@jupyter-widgets/base",
      "_view_module_version": "1.2.0",
      "_view_name": "StyleView",
      "description_width": ""
     }
    },
    "d60e4daee0784d74b1e60ee987c8c0f5": {
     "model_module": "@jupyter-widgets/controls",
     "model_name": "ButtonModel",
     "state": {
      "_dom_classes": [],
      "_model_module": "@jupyter-widgets/controls",
      "_model_module_version": "1.5.0",
      "_model_name": "ButtonModel",
      "_view_count": null,
      "_view_module": "@jupyter-widgets/controls",
      "_view_module_version": "1.5.0",
      "_view_name": "ButtonView",
      "button_style": "",
      "description": "Classify",
      "disabled": false,
      "icon": "",
      "layout": "IPY_MODEL_da4f2ee0ff5541bf89d613dcff4adfc6",
      "style": "IPY_MODEL_7c65917c7a0f4b3d9e209af081847091",
      "tooltip": ""
     }
    },
    "d728fc3614c54e808d2516948a50ffae": {
     "model_module": "@jupyter-widgets/base",
     "model_name": "LayoutModel",
     "state": {
      "_model_module": "@jupyter-widgets/base",
      "_model_module_version": "1.2.0",
      "_model_name": "LayoutModel",
      "_view_count": null,
      "_view_module": "@jupyter-widgets/base",
      "_view_module_version": "1.2.0",
      "_view_name": "LayoutView",
      "align_content": null,
      "align_items": null,
      "align_self": null,
      "border": null,
      "bottom": null,
      "display": null,
      "flex": null,
      "flex_flow": null,
      "grid_area": null,
      "grid_auto_columns": null,
      "grid_auto_flow": null,
      "grid_auto_rows": null,
      "grid_column": null,
      "grid_gap": null,
      "grid_row": null,
      "grid_template_areas": null,
      "grid_template_columns": null,
      "grid_template_rows": null,
      "height": null,
      "justify_content": null,
      "justify_items": null,
      "left": null,
      "margin": null,
      "max_height": null,
      "max_width": null,
      "min_height": null,
      "min_width": null,
      "object_fit": null,
      "object_position": null,
      "order": null,
      "overflow": null,
      "overflow_x": null,
      "overflow_y": null,
      "padding": null,
      "right": null,
      "top": null,
      "visibility": null,
      "width": null
     }
    },
    "da4f2ee0ff5541bf89d613dcff4adfc6": {
     "model_module": "@jupyter-widgets/base",
     "model_name": "LayoutModel",
     "state": {
      "_model_module": "@jupyter-widgets/base",
      "_model_module_version": "1.2.0",
      "_model_name": "LayoutModel",
      "_view_count": null,
      "_view_module": "@jupyter-widgets/base",
      "_view_module_version": "1.2.0",
      "_view_name": "LayoutView",
      "align_content": null,
      "align_items": null,
      "align_self": null,
      "border": null,
      "bottom": null,
      "display": null,
      "flex": null,
      "flex_flow": null,
      "grid_area": null,
      "grid_auto_columns": null,
      "grid_auto_flow": null,
      "grid_auto_rows": null,
      "grid_column": null,
      "grid_gap": null,
      "grid_row": null,
      "grid_template_areas": null,
      "grid_template_columns": null,
      "grid_template_rows": null,
      "height": null,
      "justify_content": null,
      "justify_items": null,
      "left": null,
      "margin": null,
      "max_height": null,
      "max_width": null,
      "min_height": null,
      "min_width": null,
      "object_fit": null,
      "object_position": null,
      "order": null,
      "overflow": null,
      "overflow_x": null,
      "overflow_y": null,
      "padding": null,
      "right": null,
      "top": null,
      "visibility": null,
      "width": null
     }
    },
    "dd49bd9390964ff3a35b3b780548b716": {
     "model_module": "@jupyter-widgets/controls",
     "model_name": "LabelModel",
     "state": {
      "_dom_classes": [],
      "_model_module": "@jupyter-widgets/controls",
      "_model_module_version": "1.5.0",
      "_model_name": "LabelModel",
      "_view_count": null,
      "_view_module": "@jupyter-widgets/controls",
      "_view_module_version": "1.5.0",
      "_view_name": "LabelView",
      "description": "",
      "description_tooltip": null,
      "layout": "IPY_MODEL_15f84de0408d4a2fa9264f87ca1cdd99",
      "placeholder": "​",
      "style": "IPY_MODEL_d4368827ab844f7db55b1069e9f7e085",
      "value": "Prediction: grizzly; Probability: 1.0000"
     }
    },
    "f1df8d98b9644f2ca403acbe54393ffa": {
     "model_module": "@jupyter-widgets/base",
     "model_name": "LayoutModel",
     "state": {
      "_model_module": "@jupyter-widgets/base",
      "_model_module_version": "1.2.0",
      "_model_name": "LayoutModel",
      "_view_count": null,
      "_view_module": "@jupyter-widgets/base",
      "_view_module_version": "1.2.0",
      "_view_name": "LayoutView",
      "align_content": null,
      "align_items": null,
      "align_self": null,
      "border": null,
      "bottom": null,
      "display": null,
      "flex": null,
      "flex_flow": null,
      "grid_area": null,
      "grid_auto_columns": null,
      "grid_auto_flow": null,
      "grid_auto_rows": null,
      "grid_column": null,
      "grid_gap": null,
      "grid_row": null,
      "grid_template_areas": null,
      "grid_template_columns": null,
      "grid_template_rows": null,
      "height": null,
      "justify_content": null,
      "justify_items": null,
      "left": null,
      "margin": null,
      "max_height": null,
      "max_width": null,
      "min_height": null,
      "min_width": null,
      "object_fit": null,
      "object_position": null,
      "order": null,
      "overflow": null,
      "overflow_x": null,
      "overflow_y": null,
      "padding": null,
      "right": null,
      "top": null,
      "visibility": null,
      "width": null
     }
    }
   }
  }
 },
 "nbformat": 4,
 "nbformat_minor": 4
}
